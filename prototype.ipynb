{
 "cells": [
  {
   "cell_type": "markdown",
   "metadata": {},
   "source": [
    "Read in the Question Bank json."
   ]
  },
  {
   "cell_type": "code",
   "execution_count": 4,
   "metadata": {},
   "outputs": [
    {
     "name": "stdout",
     "output_type": "stream",
     "text": [
      "1. How do we ensure AI applications are built ethically and transparently in enterprise settings?\n",
      "2. What are the most significant ethical concerns related to AI in the workplace?\n",
      "3. How can AI bias be prevented or mitigated in automated decision-making systems?\n",
      "4. What frameworks or guidelines exist for developing responsible AI systems in large organizations?\n",
      "5. How are political candidates in the current presidential election discussing AI regulation and governance?\n",
      "6. What role should the government play in regulating AI development and its use in enterprises?\n",
      "7. How could political changes impact AI policies in the US?\n",
      "8. Are there political trends or legislation that may hinder AI innovation in the private sector?\n",
      "9. What is the government currently doing to promote the ethical use of AI in business?\n",
      "10. Are there any notable federal or state regulations related to AI that enterprises should be aware of?\n",
      "11. How might AI regulation differ across industries (e.g., healthcare, finance, technology)?\n",
      "12. Are there government agencies providing guidance or resources for ethical AI development?\n",
      "13. How can enterprises ensure transparency in AI decisions to build trust with stakeholders and customers?\n",
      "14. What steps can organizations take to make AI systems more explainable and accountable?\n",
      "15. What are the risks of not adopting a transparent and ethical approach to AI in business?\n",
      "16. How do data privacy regulations (like GDPR or CCPA) affect AI development and deployment in enterprises?\n",
      "17. What privacy risks should enterprises be aware of when integrating AI into their operations?\n",
      "18. How can AI applications balance innovation with strict data privacy requirements?\n",
      "19. How do public concerns about AI and automation influence government policy decisions?\n",
      "20. What are the most common misconceptions about AI among the public, and how can they be addressed?\n",
      "21. How can businesses help shape public opinion on the benefits and risks of AI?\n"
     ]
    }
   ],
   "source": [
    "import json\n",
    "\n",
    "question_bank_path = 'content/question-bank.json'\n",
    "\n",
    "# Read the JSON file\n",
    "with open(question_bank_path, 'r') as file:\n",
    "    data = json.load(file)\n",
    "\n",
    "# Extract questions\n",
    "questions = [item['question'] for item in data]\n",
    "\n",
    "# Print the questions\n",
    "for i, question in enumerate(questions, 1):\n",
    "    print(f\"{i}. {question}\")"
   ]
  },
  {
   "cell_type": "code",
   "execution_count": null,
   "metadata": {},
   "outputs": [],
   "source": []
  }
 ],
 "metadata": {
  "kernelspec": {
   "display_name": "aie4midterm",
   "language": "python",
   "name": "python3"
  },
  "language_info": {
   "codemirror_mode": {
    "name": "ipython",
    "version": 3
   },
   "file_extension": ".py",
   "mimetype": "text/x-python",
   "name": "python",
   "nbconvert_exporter": "python",
   "pygments_lexer": "ipython3",
   "version": "3.11.9"
  }
 },
 "nbformat": 4,
 "nbformat_minor": 2
}
